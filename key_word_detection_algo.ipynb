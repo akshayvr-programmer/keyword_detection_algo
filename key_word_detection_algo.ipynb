{
  "nbformat": 4,
  "nbformat_minor": 0,
  "metadata": {
    "colab": {
      "name": "key_word_detection_algo.ipynb",
      "provenance": [],
      "collapsed_sections": [],
      "include_colab_link": true
    },
    "kernelspec": {
      "name": "python3",
      "display_name": "Python 3"
    }
  },
  "cells": [
    {
      "cell_type": "markdown",
      "metadata": {
        "id": "view-in-github",
        "colab_type": "text"
      },
      "source": [
        "<a href=\"https://colab.research.google.com/github/akshayvr-programmer/keyword_detection_algo/blob/main/key_word_detection_algo.ipynb\" target=\"_parent\"><img src=\"https://colab.research.google.com/assets/colab-badge.svg\" alt=\"Open In Colab\"/></a>"
      ]
    },
    {
      "cell_type": "code",
      "metadata": {
        "colab": {
          "base_uri": "https://localhost:8080/"
        },
        "id": "CCYC6ODLeyAq",
        "outputId": "85464704-d564-48bc-9931-2041b73da09a"
      },
      "source": [
        "!pip install rake_nltk\r\n",
        "\r\n",
        "\r\n",
        "\r\n",
        "\r\n",
        "\r\n"
      ],
      "execution_count": null,
      "outputs": [
        {
          "output_type": "stream",
          "text": [
            "Collecting rake_nltk\n",
            "  Downloading https://files.pythonhosted.org/packages/8e/c4/b4ff57e541ac5624ad4b20b89c2bafd4e98f29fd83139f3a81858bdb3815/rake_nltk-1.0.4.tar.gz\n",
            "Requirement already satisfied: nltk in /usr/local/lib/python3.6/dist-packages (from rake_nltk) (3.2.5)\n",
            "Requirement already satisfied: six in /usr/local/lib/python3.6/dist-packages (from nltk->rake_nltk) (1.15.0)\n",
            "Building wheels for collected packages: rake-nltk\n",
            "  Building wheel for rake-nltk (setup.py) ... \u001b[?25l\u001b[?25hdone\n",
            "  Created wheel for rake-nltk: filename=rake_nltk-1.0.4-py2.py3-none-any.whl size=7819 sha256=6cfcb3f3fc4e0fcc6685cce592395a16c9b88cfb311b43d92b54793c5bbd99fa\n",
            "  Stored in directory: /root/.cache/pip/wheels/ef/92/fc/271b3709e71a96ffe934b27818946b795ac6b9b8ff8682483f\n",
            "Successfully built rake-nltk\n",
            "Installing collected packages: rake-nltk\n",
            "Successfully installed rake-nltk-1.0.4\n"
          ],
          "name": "stdout"
        }
      ]
    },
    {
      "cell_type": "code",
      "metadata": {
        "colab": {
          "base_uri": "https://localhost:8080/"
        },
        "id": "pamaXtzDfL6O",
        "outputId": "5437fb15-69b8-4db5-9ecd-b4eff4c2cdd9"
      },
      "source": [
        "from rake_nltk import Rake\r\n",
        "r = Rake()\r\n",
        "\r\n",
        "mytext = '''These political trends were signs of a new time. It was a time of\r\n",
        "profound social and economic changes. It was a time when new cities\r\n",
        "came up and new industrialised regions developed, railways expanded\r\n",
        "and the Industrial Revolution occurred.\r\n",
        "Industrialisation brought men, women and children to factories. Work\r\n",
        "hours were often long and wages were poor. Unemployment was\r\n",
        "common, particularly during times of low demand for industrial goods.\r\n",
        "Housing and sanitation were problems since towns were growing\r\n",
        "rapidly. Liberals and radicals searched for solutions to these issues'''\r\n",
        "\r\n",
        "r.extract_keywords_from_text(mytext)\r\n",
        "\r\n",
        "r.get_ranked_phrases()"
      ],
      "execution_count": null,
      "outputs": [
        {
          "output_type": "execute_result",
          "data": {
            "text/plain": [
              "['new industrialised regions developed',\n",
              " 'problems since towns',\n",
              " 'new cities came',\n",
              " 'industrialisation brought men',\n",
              " 'industrial revolution occurred',\n",
              " 'new time',\n",
              " 'industrial goods',\n",
              " 'work hours',\n",
              " 'railways expanded',\n",
              " 'radicals searched',\n",
              " 'profound social',\n",
              " 'political trends',\n",
              " 'often long',\n",
              " 'low demand',\n",
              " 'growing rapidly',\n",
              " 'economic changes',\n",
              " 'time',\n",
              " 'women',\n",
              " 'wages',\n",
              " 'unemployment',\n",
              " 'times',\n",
              " 'solutions',\n",
              " 'signs',\n",
              " 'sanitation',\n",
              " 'poor',\n",
              " 'particularly',\n",
              " 'liberals',\n",
              " 'issues',\n",
              " 'housing',\n",
              " 'factories',\n",
              " 'common',\n",
              " 'children']"
            ]
          },
          "metadata": {
            "tags": []
          },
          "execution_count": 2
        }
      ]
    },
    {
      "cell_type": "code",
      "metadata": {
        "colab": {
          "base_uri": "https://localhost:8080/"
        },
        "id": "GULHbpkOfN4C",
        "outputId": "514ea144-0c11-4bac-e907-d05a59fce148"
      },
      "source": [
        "r.get_ranked_phrases_with_scores()\r\n"
      ],
      "execution_count": null,
      "outputs": [
        {
          "output_type": "execute_result",
          "data": {
            "text/plain": [
              "[(15.0, 'new industrialised regions developed'),\n",
              " (9.0, 'problems since towns'),\n",
              " (9.0, 'new cities came'),\n",
              " (9.0, 'industrialisation brought men'),\n",
              " (8.5, 'industrial revolution occurred'),\n",
              " (4.5, 'new time'),\n",
              " (4.5, 'industrial goods'),\n",
              " (4.0, 'work hours'),\n",
              " (4.0, 'railways expanded'),\n",
              " (4.0, 'radicals searched'),\n",
              " (4.0, 'profound social'),\n",
              " (4.0, 'political trends'),\n",
              " (4.0, 'often long'),\n",
              " (4.0, 'low demand'),\n",
              " (4.0, 'growing rapidly'),\n",
              " (4.0, 'economic changes'),\n",
              " (1.5, 'time'),\n",
              " (1.0, 'women'),\n",
              " (1.0, 'wages'),\n",
              " (1.0, 'unemployment'),\n",
              " (1.0, 'times'),\n",
              " (1.0, 'solutions'),\n",
              " (1.0, 'signs'),\n",
              " (1.0, 'sanitation'),\n",
              " (1.0, 'poor'),\n",
              " (1.0, 'particularly'),\n",
              " (1.0, 'liberals'),\n",
              " (1.0, 'issues'),\n",
              " (1.0, 'housing'),\n",
              " (1.0, 'factories'),\n",
              " (1.0, 'common'),\n",
              " (1.0, 'children')]"
            ]
          },
          "metadata": {
            "tags": []
          },
          "execution_count": 17
        }
      ]
    },
    {
      "cell_type": "code",
      "metadata": {
        "id": "AixZC2IifrAx"
      },
      "source": [
        "\r\n"
      ],
      "execution_count": null,
      "outputs": []
    },
    {
      "cell_type": "code",
      "metadata": {
        "id": "Re_OU0E9f-pA"
      },
      "source": [
        ""
      ],
      "execution_count": null,
      "outputs": []
    }
  ]
}